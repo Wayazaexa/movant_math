{
 "cells": [
  {
   "attachments": {},
   "cell_type": "markdown",
   "metadata": {},
   "source": [
    "# Hemautomationssystem\n",
    "\n",
    "Jag vill utveckla ett hemautomationssystem med en central logikenhet och diverse tillhörande enheter som kan anslutas och styras med hjälp av en mobilapp.\n",
    "\n",
    "### Problem: Skicka konkatenerad data \n",
    "En av de tillhörande enheterna är smarta lampor med dimmerfunktion.\n",
    "Användaren styr ljusstyrkan i en app. I appen finns även en på/av knapp.\n",
    "När användaren klickar på på/av-knappen skickas värdet för ljusstyrkan samt en bit där 0 betyder av, och 1 betyder på.\n",
    "\n",
    "\n",
    "Datan som skickas är ett 16-bitars positivt heltal, där bit 0-5 är enhetens ID på nätverket (0-63), bit 6 är på/av, och bit 7-15 är datan (0-511).\n",
    "\n",
    "Avkodning av datan görs via boolesk algebra (bitmaskning och bitskiften) enligt koden nedan.\n"
   ]
  },
  {
   "cell_type": "code",
   "execution_count": 6,
   "metadata": {},
   "outputs": [
    {
     "name": "stdout",
     "output_type": "stream",
     "text": [
      "Default configuration:\n",
      "Dimmer is on? False, strength: 511.\n",
      "Sending a signal to a different device, then checking configuration:\n",
      "Dimmer is on? False, strength: 511.\n",
      "Sending the same signal but to this device, then checking configuration:\n",
      "Dimmer is on? True, strength: 256.\n"
     ]
    }
   ],
   "source": [
    "class DimmerLightBulb:\n",
    "    def __init__(self, id):\n",
    "        \"\"\" Called during setup. Making sure IDs doesn't collide with other\n",
    "        units is up to the function that handles the setup. \"\"\"\n",
    "        self.id = id\n",
    "        self.isOn = 0\n",
    "        self.lightStrength = 0x01FF\n",
    "\n",
    "    def splitSignal(self, signal):\n",
    "        \"\"\" Signals are broadcasted over the network, requiring an ID-check\n",
    "        before handling signals. \"\"\"\n",
    "        id = signal & 0x003F\n",
    "        if id == self.id:\n",
    "            self.isOn = (signal & 0x0040) >> 6\n",
    "            self.lightStrength = (signal & 0xFF80) >> 7\n",
    "\n",
    "# Setting up a DimmerLightBulb with id = 4\n",
    "dimmer = DimmerLightBulb(4)\n",
    "print(\"Default configuration:\")\n",
    "print(f\"Dimmer is on? {bool(dimmer.isOn)}, light strength: {dimmer.lightStrength}.\")\n",
    "print(\"Sending a signal to a different device, then checking configuration:\")\n",
    "dimmer.splitSignal(0x8042)\n",
    "print(f\"Dimmer is on? {bool(dimmer.isOn)}, light strength: {dimmer.lightStrength}.\")\n",
    "print(\"Sending the same signal but to this device, then checking configuration:\")\n",
    "dimmer.splitSignal(0x8044)\n",
    "print(f\"Dimmer is on? {bool(dimmer.isOn)}, light strength: {dimmer.lightStrength}.\")\n"
   ]
  },
  {
   "attachments": {},
   "cell_type": "markdown",
   "metadata": {},
   "source": [
    "### Problem \n",
    "### Problem \n",
    "### Problem \n",
    "### Problem \n",
    "### Problem \n",
    "### Problem \n",
    "### Problem \n",
    "### Problem \n",
    "### Problem \n",
    "\n",
    "\n",
    "\n",
    "* Hantering av tal och logik i datorer (minst 2 av 3 delområden)​​ $\\checkmark$\n",
    "\n",
    "  - Talsystem, binära och hexadecimala tal. ​\n",
    "\n",
    "  - Representation av tal och aritmetik i datorer. Mätning och avrundning​ $\\checkmark$\n",
    "\n",
    "  - Boolesk algebra, logik och funktioner​​ $\\checkmark$\n",
    "\n",
    "* Algebra (minst 2 av 3 delområden)​\n",
    "\n",
    "  - Olika fysikaliska system och fysikaliska ekvationer (Ellära, Mekanik och krafter, etc)​\n",
    "\n",
    "  - Formler vid Mätning och omvandling, inklusive hantering av storheter, enheter, prefix​\n",
    "\n",
    "  - Vektorer och matriser​\n",
    "\n",
    "* Trigonometri​\n",
    "\n",
    "* Statistik och/eller sannolikhet"
   ]
  }
 ],
 "metadata": {
  "kernelspec": {
   "display_name": "Python 3",
   "language": "python",
   "name": "python3"
  },
  "language_info": {
   "codemirror_mode": {
    "name": "ipython",
    "version": 3
   },
   "file_extension": ".py",
   "mimetype": "text/x-python",
   "name": "python",
   "nbconvert_exporter": "python",
   "pygments_lexer": "ipython3",
   "version": "3.10.6"
  },
  "orig_nbformat": 4,
  "vscode": {
   "interpreter": {
    "hash": "e7370f93d1d0cde622a1f8e1c04877d8463912d04d973331ad4851f04de6915a"
   }
  }
 },
 "nbformat": 4,
 "nbformat_minor": 2
}
